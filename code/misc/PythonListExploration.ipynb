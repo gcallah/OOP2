{
 "cells": [
  {
   "cell_type": "markdown",
   "metadata": {},
   "source": [
    "## How Does a Python Iterator Return Elements from a List?\n",
    "\n",
    "\n",
    "Is it more similar to a C++ reference or a C++ value?\n",
    "\n",
    "Let's code it and see!\n",
    "\n",
    "First we will create a list:"
   ]
  },
  {
   "cell_type": "code",
   "execution_count": 5,
   "metadata": {},
   "outputs": [],
   "source": [
    "l = []\n",
    "for i in range(4):\n",
    "    l.append(i)"
   ]
  },
  {
   "cell_type": "markdown",
   "metadata": {},
   "source": [
    "Of course, ordinarily `l` would be a bad list name -- we'd want a name like `employees` or `students` or something -- but here we are just playing around, and the list is nothing but a list!\n",
    "\n",
    "Let's make sure `l` holds what we think it should:"
   ]
  },
  {
   "cell_type": "code",
   "execution_count": 6,
   "metadata": {},
   "outputs": [
    {
     "data": {
      "text/plain": [
       "[0, 1, 2, 3]"
      ]
     },
     "execution_count": 6,
     "metadata": {},
     "output_type": "execute_result"
    }
   ],
   "source": [
    "l"
   ]
  },
  {
   "cell_type": "markdown",
   "metadata": {},
   "source": [
    "Now let's iterate over the list and change the value we get back:"
   ]
  },
  {
   "cell_type": "code",
   "execution_count": 7,
   "metadata": {},
   "outputs": [
    {
     "name": "stdout",
     "output_type": "stream",
     "text": [
      "num inside first iterator = 10\n",
      "num inside first iterator = 11\n",
      "num inside first iterator = 12\n",
      "num inside first iterator = 13\n"
     ]
    }
   ],
   "source": [
    "for num in l:\n",
    "    num += 10\n",
    "    print(\"num inside first iterator = \" + str(num))"
   ]
  },
  {
   "cell_type": "markdown",
   "metadata": {},
   "source": [
    "Lastly, we will loop over the list again and see what it holds:"
   ]
  },
  {
   "cell_type": "code",
   "execution_count": 8,
   "metadata": {},
   "outputs": [
    {
     "name": "stdout",
     "output_type": "stream",
     "text": [
      "num after first iterator = 0\n",
      "num after first iterator = 1\n",
      "num after first iterator = 2\n",
      "num after first iterator = 3\n"
     ]
    }
   ],
   "source": [
    "for num in l:\n",
    "    print(\"num after first iterator = \" + str(num))"
   ]
  },
  {
   "cell_type": "markdown",
   "metadata": {},
   "source": [
    "So we see that a Python list iterator behaves like a C++ *ranged for* that returns `vector` items by value."
   ]
  },
  {
   "cell_type": "code",
   "execution_count": null,
   "metadata": {},
   "outputs": [],
   "source": []
  }
 ],
 "metadata": {
  "kernelspec": {
   "display_name": "Python 3",
   "language": "python",
   "name": "python3"
  },
  "language_info": {
   "codemirror_mode": {
    "name": "ipython",
    "version": 3
   },
   "file_extension": ".py",
   "mimetype": "text/x-python",
   "name": "python",
   "nbconvert_exporter": "python",
   "pygments_lexer": "ipython3",
   "version": "3.6.2"
  }
 },
 "nbformat": 4,
 "nbformat_minor": 2
}
